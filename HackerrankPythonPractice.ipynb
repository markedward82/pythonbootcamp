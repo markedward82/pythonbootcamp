{
 "cells": [
  {
   "cell_type": "code",
   "execution_count": null,
   "metadata": {},
   "outputs": [],
   "source": [
    "N = int(input())\n",
    "\n",
    "for i in range(N):\n",
    "    a.append(input().split())\n",
    "for j in range(len(a)):\n",
    "    try:\n",
    "        print(int(a[j][0])//int(a[j][1]))\n",
    "    except ZeroDivisionError as e:\n",
    "        print(\"Error Code:\", e)\n",
    "    except ValueError as f:\n",
    "        print(\"Error Code:\", f)"
   ]
  },
  {
   "cell_type": "code",
   "execution_count": 15,
   "metadata": {},
   "outputs": [
    {
     "name": "stdout",
     "output_type": "stream",
     "text": [
      "d =  0\n",
      "f =  3\n"
     ]
    }
   ],
   "source": [
    "d = 3//9\n",
    "f = 3%9\n",
    "print('d = ', d)\n",
    "print('f = ', f)"
   ]
  },
  {
   "cell_type": "code",
   "execution_count": 16,
   "metadata": {},
   "outputs": [
    {
     "name": "stdout",
     "output_type": "stream",
     "text": [
      "['1', '0']\n",
      "['1 0']\n"
     ]
    }
   ],
   "source": [
    "l = []\n",
    "\n",
    "a = \"1 0\"\n",
    "print(a.split())\n",
    "l.append(a)\n",
    "print(l)\n",
    "\n",
    "b = \"10\"\n",
    "print(b.split())\n",
    "# `.split()` tells the interpreter to \"split the input at the whitespace\".\n",
    "# Therefore, if there is no whitespace, then there is nothing to split.\n",
    "# The idea can be extended to splitting by specific characters as well, like `,` or `.`, or other stuff. "
   ]
  }
 ],
 "metadata": {
  "kernelspec": {
   "display_name": "Python 3",
   "language": "python",
   "name": "python3"
  }
 },
 "nbformat": 4,
 "nbformat_minor": 2
}
