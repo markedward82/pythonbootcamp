{
 "cells": [
  {
   "cell_type": "code",
   "execution_count": null,
   "metadata": {},
   "outputs": [],
   "source": [
    "N = int(input())\n",
    "\n",
    "for i in range(N):\n",
    "    a.append(input().split())\n",
    "for j in range(len(a)):\n",
    "    try:\n",
    "        print(int(a[j][0])//int(a[j][1]))\n",
    "    except ZeroDivisionError as e:\n",
    "        print(\"Error Code:\", e)\n",
    "    except ValueError as f:\n",
    "        print(\"Error Code:\", f)"
   ]
  },
  {
   "cell_type": "code",
   "execution_count": 15,
   "metadata": {},
   "outputs": [
    {
     "name": "stdout",
     "output_type": "stream",
     "text": [
      "d =  0\n",
      "f =  3\n"
     ]
    }
   ],
   "source": [
    "d = 3//9\n",
    "f = 3%9\n",
    "print('d = ', d)\n",
    "print('f = ', f)"
   ]
  },
  {
   "cell_type": "code",
   "execution_count": 1,
   "metadata": {},
   "outputs": [
    {
     "name": "stdout",
     "output_type": "stream",
     "text": [
      "['1', '0']\n",
      "['1 0']\n",
      "['10']\n"
     ]
    }
   ],
   "source": [
    "l = []\n",
    "\n",
    "a = \"1 0\"\n",
    "print(a.split())\n",
    "l.append(a)\n",
    "print(l)\n",
    "\n",
    "b = \"10\"\n",
    "print(b.split())\n",
    "# `.split()` tells the interpreter to \"split the input at the whitespace\".\n",
    "# Therefore, if there is no whitespace, then there is nothing to split.\n",
    "# The idea can be extended to splitting by specific characters as well, like `,` or `.`, or other stuff. "
   ]
  },
  {
   "cell_type": "code",
   "execution_count": 32,
   "metadata": {},
   "outputs": [],
   "source": [
    "# x = int ( input()) \n",
    "# y = int ( input()) \n",
    "# n = int ( input()) \n",
    "# ar = [] \n",
    "# p = 0 \n",
    "# for i in range ( x + 1 ) : \n",
    "#     for j in range( y + 1): \n",
    "#         if i+j != n: \n",
    "#             ar.append([]) \n",
    "#             ar[p] = [ i , j ] \n",
    "#             p+=1 \n",
    "#             print(ar)"
   ]
  },
  {
   "cell_type": "code",
   "execution_count": 103,
   "metadata": {},
   "outputs": [
    {
     "name": "stdout",
     "output_type": "stream",
     "text": [
      "1\n",
      "1\n",
      "1\n",
      "2\n",
      "list =  [[0, 0, 0], [0, 0, 1], [0, 1, 0], [1, 0, 0], [1, 1, 1]]\n"
     ]
    }
   ],
   "source": [
    "x = int(input())\n",
    "y = int(input())\n",
    "z = int(input())\n",
    "n = int(input())\n",
    "\n",
    "list = []\n",
    "for i in range(x+1):\n",
    "    for j in range(y+1):\n",
    "        for c in range(z+1):\n",
    "            if (i+j+c) != n:\n",
    "                arrlist = [i, j, c]\n",
    "                list.append(arrlist)\n",
    "\n",
    "print(\"list = \",list)"
   ]
  },
  {
   "cell_type": "code",
   "execution_count": 61,
   "metadata": {},
   "outputs": [
    {
     "name": "stdout",
     "output_type": "stream",
     "text": [
      "1\n",
      "1\n",
      "1\n",
      "2\n",
      "[[0, 0, 0], [0, 0, 1], [0, 1, 0], [1, 0, 0], [1, 1, 1]]\n"
     ]
    }
   ],
   "source": [
    "x = int(input())\n",
    "y = int(input())\n",
    "z = int(input())\n",
    "n = int(input())\n",
    "\n",
    "print ([[ i, j, k] for i in range(x+1) for j in range(y+1) for k in range (z+1) if ((i+j+k) != n )])"
   ]
  },
  {
   "cell_type": "code",
   "execution_count": 88,
   "metadata": {},
   "outputs": [
    {
     "name": "stdout",
     "output_type": "stream",
     "text": [
      "2\n",
      "2 3 6 6 5\n",
      "5\n"
     ]
    }
   ],
   "source": [
    "    n = input()\n",
    "#     arr = map(int, input().split())\n",
    "# arr = [2,3,6,6,5]\n",
    "    arr = input().split()\n",
    "#     for i in arr:\n",
    "#         print(arr[i])\n",
    "    \n",
    "    runner_up = min(arr)\n",
    "    winner = max(arr)\n",
    "\n",
    "    for num in arr:\n",
    "        if num > runner_up and num < winner:\n",
    "            runner_up = num\n",
    "\n",
    "    print(runner_up)"
   ]
  },
  {
   "cell_type": "code",
   "execution_count": 95,
   "metadata": {},
   "outputs": [
    {
     "name": "stdout",
     "output_type": "stream",
     "text": [
      "5\n",
      "2 3 6 6 5\n"
     ]
    },
    {
     "ename": "TypeError",
     "evalue": "'map' object is not subscriptable",
     "output_type": "error",
     "traceback": [
      "\u001b[1;31m---------------------------------------------------------------------------\u001b[0m",
      "\u001b[1;31mTypeError\u001b[0m                                 Traceback (most recent call last)",
      "\u001b[1;32m<ipython-input-95-cc9f877f3a1f>\u001b[0m in \u001b[0;36m<module>\u001b[1;34m\u001b[0m\n\u001b[0;32m      3\u001b[0m \u001b[0mn\u001b[0m \u001b[1;33m=\u001b[0m \u001b[0mint\u001b[0m\u001b[1;33m(\u001b[0m\u001b[0minput\u001b[0m\u001b[1;33m(\u001b[0m\u001b[1;33m)\u001b[0m\u001b[1;33m)\u001b[0m\u001b[1;33m\u001b[0m\u001b[1;33m\u001b[0m\u001b[0m\n\u001b[0;32m      4\u001b[0m \u001b[0marr\u001b[0m \u001b[1;33m=\u001b[0m \u001b[0mmap\u001b[0m\u001b[1;33m(\u001b[0m\u001b[0mint\u001b[0m\u001b[1;33m,\u001b[0m \u001b[0minput\u001b[0m\u001b[1;33m(\u001b[0m\u001b[1;33m)\u001b[0m\u001b[1;33m.\u001b[0m\u001b[0msplit\u001b[0m\u001b[1;33m(\u001b[0m\u001b[1;33m)\u001b[0m\u001b[1;33m)\u001b[0m\u001b[1;33m\u001b[0m\u001b[1;33m\u001b[0m\u001b[0m\n\u001b[1;32m----> 5\u001b[1;33m \u001b[0mprint\u001b[0m\u001b[1;33m(\u001b[0m\u001b[0marr\u001b[0m\u001b[1;33m[\u001b[0m\u001b[1;33m[\u001b[0m\u001b[1;33m]\u001b[0m\u001b[1;33m]\u001b[0m\u001b[1;33m)\u001b[0m\u001b[1;33m\u001b[0m\u001b[1;33m\u001b[0m\u001b[0m\n\u001b[0m\u001b[0;32m      6\u001b[0m \u001b[1;31m# arr.remove(max(arr))\u001b[0m\u001b[1;33m\u001b[0m\u001b[1;33m\u001b[0m\u001b[1;33m\u001b[0m\u001b[0m\n\u001b[0;32m      7\u001b[0m \u001b[1;31m# print(max(arr))\u001b[0m\u001b[1;33m\u001b[0m\u001b[1;33m\u001b[0m\u001b[1;33m\u001b[0m\u001b[0m\n",
      "\u001b[1;31mTypeError\u001b[0m: 'map' object is not subscriptable"
     ]
    }
   ],
   "source": [
    "# n = int(input())\n",
    "# arr = map(int, input().split())\n",
    "n = int(input())\n",
    "arr = map(int, input().split())\n",
    "print(arr[[]])\n",
    "# arr.remove(max(arr))\n",
    "# print(max(arr))\n",
    "        \n",
    "        \n",
    "        "
   ]
  },
  {
   "cell_type": "code",
   "execution_count": null,
   "metadata": {},
   "outputs": [],
   "source": []
  }
 ],
 "metadata": {
  "kernelspec": {
   "display_name": "Python 3",
   "language": "python",
   "name": "python3"
  },
  "language_info": {
   "codemirror_mode": {
    "name": "ipython",
    "version": 3
   },
   "file_extension": ".py",
   "mimetype": "text/x-python",
   "name": "python",
   "nbconvert_exporter": "python",
   "pygments_lexer": "ipython3",
   "version": "3.7.3"
  }
 },
 "nbformat": 4,
 "nbformat_minor": 2
}
