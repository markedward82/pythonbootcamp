{
 "cells": [
  {
   "cell_type": "code",
   "execution_count": null,
   "metadata": {},
   "outputs": [],
   "source": [
    "N = int(input())\n",
    "\n",
    "for i in range(N):\n",
    "    a.append(input().split())\n",
    "for j in range(len(a)):\n",
    "    try:\n",
    "        print(int(a[j][0])//int(a[j][1]))\n",
    "    except ZeroDivisionError as e:\n",
    "        print(\"Error Code:\", e)\n",
    "    except ValueError as f:\n",
    "        print(\"Error Code:\", f)"
   ]
  },
  {
   "cell_type": "code",
   "execution_count": 15,
   "metadata": {},
   "outputs": [
    {
     "name": "stdout",
     "output_type": "stream",
     "text": [
      "d =  0\n",
      "f =  3\n"
     ]
    }
   ],
   "source": [
    "d = 3//9\n",
    "f = 3%9\n",
    "print('d = ', d)\n",
    "print('f = ', f)"
   ]
  },
  {
   "cell_type": "code",
   "execution_count": 1,
   "metadata": {},
   "outputs": [
    {
     "name": "stdout",
     "output_type": "stream",
     "text": [
      "['1', '0']\n",
      "['1 0']\n",
      "['10']\n"
     ]
    }
   ],
   "source": [
    "l = []\n",
    "\n",
    "a = \"1 0\"\n",
    "print(a.split())\n",
    "l.append(a)\n",
    "print(l)\n",
    "\n",
    "b = \"10\"\n",
    "print(b.split())\n",
    "# `.split()` tells the interpreter to \"split the input at the whitespace\".\n",
    "# Therefore, if there is no whitespace, then there is nothing to split.\n",
    "# The idea can be extended to splitting by specific characters as well, like `,` or `.`, or other stuff. "
   ]
  },
  {
   "cell_type": "code",
   "execution_count": 32,
   "metadata": {},
   "outputs": [],
   "source": [
    "# x = int ( input()) \n",
    "# y = int ( input()) \n",
    "# n = int ( input()) \n",
    "# ar = [] \n",
    "# p = 0 \n",
    "# for i in range ( x + 1 ) : \n",
    "#     for j in range( y + 1): \n",
    "#         if i+j != n: \n",
    "#             ar.append([]) \n",
    "#             ar[p] = [ i , j ] \n",
    "#             p+=1 \n",
    "#             print(ar)"
   ]
  },
  {
   "cell_type": "code",
   "execution_count": 103,
   "metadata": {},
   "outputs": [
    {
     "name": "stdout",
     "output_type": "stream",
     "text": [
      "1\n",
      "1\n",
      "1\n",
      "2\n",
      "list =  [[0, 0, 0], [0, 0, 1], [0, 1, 0], [1, 0, 0], [1, 1, 1]]\n"
     ]
    }
   ],
   "source": [
    "x = int(input())\n",
    "y = int(input())\n",
    "z = int(input())\n",
    "n = int(input())\n",
    "\n",
    "list = []\n",
    "for i in range(x+1):\n",
    "    for j in range(y+1):\n",
    "        for c in range(z+1):\n",
    "            if (i+j+c) != n:\n",
    "                arrlist = [i, j, c]\n",
    "                list.append(arrlist)\n",
    "\n",
    "print(\"list = \",list)"
   ]
  },
  {
   "cell_type": "code",
   "execution_count": 61,
   "metadata": {},
   "outputs": [
    {
     "name": "stdout",
     "output_type": "stream",
     "text": [
      "1\n",
      "1\n",
      "1\n",
      "2\n",
      "[[0, 0, 0], [0, 0, 1], [0, 1, 0], [1, 0, 0], [1, 1, 1]]\n"
     ]
    }
   ],
   "source": [
    "x = int(input())\n",
    "y = int(input())\n",
    "z = int(input())\n",
    "n = int(input())\n",
    "\n",
    "print ([[ i, j, k] for i in range(x+1) for j in range(y+1) for k in range (z+1) if ((i+j+k) != n )])"
   ]
  },
  {
   "cell_type": "code",
   "execution_count": 88,
   "metadata": {},
   "outputs": [
    {
     "name": "stdout",
     "output_type": "stream",
     "text": [
      "2\n",
      "2 3 6 6 5\n",
      "5\n"
     ]
    }
   ],
   "source": [
    "    n = input()\n",
    "#     arr = map(int, input().split())\n",
    "# arr = [2,3,6,6,5]\n",
    "    arr = input().split()\n",
    "#     for i in arr:\n",
    "#         print(arr[i])\n",
    "    \n",
    "    runner_up = min(arr)\n",
    "    winner = max(arr)\n",
    "\n",
    "    for num in arr:\n",
    "        if num > runner_up and num < winner:\n",
    "            runner_up = num\n",
    "\n",
    "    print(runner_up)"
   ]
  },
  {
   "cell_type": "code",
   "execution_count": 33,
   "metadata": {},
   "outputs": [
    {
     "name": "stdout",
     "output_type": "stream",
     "text": [
      "len:  4\n",
      "5\n"
     ]
    }
   ],
   "source": [
    "n = 5\n",
    "arr = [2, 3, 6, 6, 5]\n",
    "# n = int(input())\n",
    "# arr = map(int, input(n).split())\n",
    "# print(arr)\n",
    "# print(type(arr))\n",
    "# ls = list(set(list(arr)))\n",
    "# print(ls)\n",
    "# type(ls)\n",
    "print(\"len: \",len(ls))\n",
    "ls = list(set(list(arr)))\n",
    "# ls.sort()\n",
    "big = max(ls)\n",
    "runner_up = 0\n",
    "for i in range(n):\n",
    "    if arr[i] != big and arr[i] > 0:\n",
    "        runner_up = arr[i]\n",
    "print(runner_up)"
   ]
  },
  {
   "cell_type": "code",
   "execution_count": 71,
   "metadata": {},
   "outputs": [
    {
     "name": "stdout",
     "output_type": "stream",
     "text": [
      "37.21\n",
      "Tina 37.2\n",
      "Berry 37.21\n",
      "Harry 37.21\n",
      "Harsh 39\n",
      "Akriti 41\n"
     ]
    }
   ],
   "source": [
    "students = [['Harry', 37.21], ['Berry', 37.21], ['Tina', 37.2], ['Akriti', 41], ['Harsh', 39]]\n",
    "print(students[0][1])\n",
    "\n",
    "for name, grade in sorted(students, key=lambda x: (x[1], x[0])):\n",
    "    print(name, grade)"
   ]
  },
  {
   "cell_type": "code",
   "execution_count": 1,
   "metadata": {},
   "outputs": [
    {
     "name": "stdout",
     "output_type": "stream",
     "text": [
      "5\n",
      "Harry\n",
      "37.21\n",
      "Berry\n",
      "37.21\n",
      "Tina\n",
      "37.\n",
      "Akriti\n",
      "41\n",
      "Harsh\n",
      "39\n",
      "Berry\n",
      "Harry\n"
     ]
    }
   ],
   "source": [
    "# students = [['Harry', 37.21], ['Berry', 37.21], ['Tina', 37.2], ['Akriti', 41], ['Harsh', 39]]\n",
    "# name = ['Harry','Berry','Tina','Akriti','Harsh']\n",
    "# score = [37.21, 37.21, 37.2, 41, 39]\n",
    "# n = ['Harry','Berry','Tina','Akriti','Harsh']\n",
    "# 37.21 37.21 37.2 41 39\n",
    "\n",
    "students = []\n",
    "for _ in range(int(input())):\n",
    "    name = input()\n",
    "    score = float(input())\n",
    "    new = [name, score]\n",
    "    students.append(new)\n",
    "            \n",
    "def removeMinimum(oldlist):\n",
    "    oldlist = sorted(oldlist, key=lambda x: x[1])\n",
    "    min_ = min(students, key=lambda x: x[1])\n",
    "    newlist = []\n",
    "    \n",
    "    for a in range(0, len(oldlist)):\n",
    "        if min_[1] != oldlist[a][1]:\n",
    "            newlist.append(oldlist[a])\n",
    "    return newlist\n",
    " \n",
    "\n",
    "students = removeMinimum(students);\n",
    "# find the second minimum value \n",
    "min_ = min(students, key=lambda x: x[1])\n",
    "# sort alphabetic order \n",
    "students = sorted(students, key=lambda x: x[0])\n",
    "for a in range(0, len(students)):\n",
    "    if min_[1] == students[a][1]:\n",
    "        print(students[a][0])"
   ]
  },
  {
   "cell_type": "code",
   "execution_count": 9,
   "metadata": {},
   "outputs": [
    {
     "name": "stdout",
     "output_type": "stream",
     "text": [
      "5\n",
      "Mark\n",
      "1\n",
      "Hillary\n",
      "2\n",
      "Connor\n",
      "3\n",
      "Charlotte\n",
      "4\n",
      "Caden\n",
      "5\n"
     ]
    },
    {
     "data": {
      "text/plain": [
       "[['Mark', 1.0],\n",
       " ['Hillary', 2.0],\n",
       " ['Connor', 3.0],\n",
       " ['Charlotte', 4.0],\n",
       " ['Caden', 5.0]]"
      ]
     },
     "execution_count": 9,
     "metadata": {},
     "output_type": "execute_result"
    }
   ],
   "source": [
    "stu = []\n",
    "for _ in range(int(input())):\n",
    "    stu_name = input()\n",
    "    stu_grade = float(input())\n",
    "    Grade_List = [stu_name, stu_grade]\n",
    "    stu.append(Grade_List)\n",
    "# test case stu\n",
    "\n",
    "def removeSmall(oldstu):\n",
    "    \n"
   ]
  },
  {
   "cell_type": "code",
   "execution_count": 43,
   "metadata": {},
   "outputs": [
    {
     "name": "stdout",
     "output_type": "stream",
     "text": [
      "Berry\n",
      "Harry\n"
     ]
    }
   ],
   "source": [
    "TestStu = [['Harry', 37.21], ['Berry', 37.21], ['Tina', 37.2], ['Akriti', 41], ['Harsh', 39]]\n",
    "StuX = [['Harry', 37.21], ['Berry', 37.21], ['Tina', 37.2], ['Akriti', 41], ['Harsh', 39]]\n",
    "\n",
    "# def removeSmall(TestStu):\n",
    "TestStu = sorted(TestStu, key = lambda x:x[1])\n",
    "FstMin = min(StuX, key = lambda x:x[1])\n",
    "newStu = []\n",
    "\n",
    "# print(\"=>\", TestStu)\n",
    "# print(\"=>\", FstMin[1])\n",
    "\n",
    "\n",
    "for i in range(0, len(TestStu)):\n",
    "    if FstMin[1] != TestStu[i][1]:\n",
    "        newStu.append(TestStu[i])\n",
    "#     print(\"new Student list=>\", newStu)\n",
    "\n",
    "# print(\"StuX=>\", StuX)\n",
    "\n",
    "SecMin = min(newStu, key = lambda x:x[1])\n",
    "# print(\"SecMin\", SecMin)\n",
    "\n",
    "# for a in range(0, len(newStu)):\n",
    "#     print(\"A: \",newStu[a])\n",
    "newStu = sorted(newStu, key = lambda x:x[0])\n",
    "\n",
    "# for b in range(0, len(newStu)):\n",
    "#     print(\"B\" ,newStu[b])\n",
    "\n",
    "for j in range(0, len(newStu)):\n",
    "    if SecMin[1] == newStu[j][1]:\n",
    "        print(newStu[j][0])"
   ]
  },
  {
   "cell_type": "code",
   "execution_count": null,
   "metadata": {},
   "outputs": [],
   "source": []
  }
 ],
 "metadata": {
  "kernelspec": {
   "display_name": "Python 3",
   "language": "python",
   "name": "python3"
  },
  "language_info": {
   "codemirror_mode": {
    "name": "ipython",
    "version": 3
   },
   "file_extension": ".py",
   "mimetype": "text/x-python",
   "name": "python",
   "nbconvert_exporter": "python",
   "pygments_lexer": "ipython3",
   "version": "3.7.3"
  }
 },
 "nbformat": 4,
 "nbformat_minor": 2
}
