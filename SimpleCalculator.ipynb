{
 "cells": [
  {
   "cell_type": "code",
   "execution_count": 39,
   "metadata": {},
   "outputs": [],
   "source": [
    "def getUserInputYu():\n",
    "    firstNum = input(\"First number=>  \")\n",
    "#     x = int(x)\n",
    "    \n",
    "    oper = input(\"Operator(type mod if it's modulus=>  \")\n",
    "    \n",
    "    secondNum= input(\"Second number=>  \")\n",
    "    return firstNum, oper, secondNum"
   ]
  },
  {
   "cell_type": "code",
   "execution_count": 24,
   "metadata": {},
   "outputs": [],
   "source": [
    "def plusYu(x, y):\n",
    "    return x + y"
   ]
  },
  {
   "cell_type": "code",
   "execution_count": 25,
   "metadata": {},
   "outputs": [],
   "source": [
    "def minusYu(x, y):\n",
    "    return x - y"
   ]
  },
  {
   "cell_type": "code",
   "execution_count": 26,
   "metadata": {},
   "outputs": [],
   "source": [
    "def divideYu(x, y):\n",
    "    return x / y"
   ]
  },
  {
   "cell_type": "code",
   "execution_count": 27,
   "metadata": {},
   "outputs": [],
   "source": [
    "def multiplyYu(x, y):\n",
    "    return x * y"
   ]
  },
  {
   "cell_type": "code",
   "execution_count": 40,
   "metadata": {},
   "outputs": [],
   "source": [
    "import numpy\n",
    "\n",
    "def moduluss(x, y):\n",
    "    x = x**2\n",
    "    y = y**2\n",
    "    \n",
    "    return numpy.sqrt(x + y)"
   ]
  },
  {
   "cell_type": "code",
   "execution_count": 34,
   "metadata": {},
   "outputs": [],
   "source": [
    "def startYu():\n",
    "    print(\"Please insert your numbers:\")\n",
    "    calstr = getUserInputYu()\n",
    "    calProgress(calstr)\n",
    "#     print(calstr)"
   ]
  },
  {
   "cell_type": "code",
   "execution_count": 42,
   "metadata": {},
   "outputs": [],
   "source": [
    "def calProgress(calstr):\n",
    "    x = int(calstr[0])\n",
    "    y = int(calstr[2])\n",
    "    \n",
    "    if calstr[1] == \"+\":\n",
    "        print(plusYu(x, y))\n",
    "    elif calstr[1] == \"-\":\n",
    "        print(minusYu(x, y))\n",
    "    elif calstr[1] == \"/\":\n",
    "        print(divideYu(x, y))\n",
    "    elif calstr[1] == \"*\":\n",
    "        print(multiplyYu(x, y))\n",
    "    elif calstr[1] == \"mod\":\n",
    "        print(moduluss(x, y))\n",
    "    else:\n",
    "        print(\"get it right!\")\n",
    "        getUserInputYu()"
   ]
  },
  {
   "cell_type": "code",
   "execution_count": 43,
   "metadata": {},
   "outputs": [
    {
     "name": "stdout",
     "output_type": "stream",
     "text": [
      "Please insert your numbers:\n",
      "First number=>  2\n",
      "Operator(type mod if it's modulus=>  mod\n",
      "Second number=>  3\n",
      "3.605551275463989\n"
     ]
    }
   ],
   "source": [
    "startYu()"
   ]
  },
  {
   "cell_type": "code",
   "execution_count": 44,
   "metadata": {},
   "outputs": [
    {
     "data": {
      "text/plain": [
       "3.605551275463989"
      ]
     },
     "execution_count": 44,
     "metadata": {},
     "output_type": "execute_result"
    }
   ],
   "source": [
    "numpy.sqrt(13)"
   ]
  },
  {
   "cell_type": "code",
   "execution_count": 7,
   "metadata": {},
   "outputs": [],
   "source": [
    "# def controlYu():\n",
    "#     oper = getUserInputYu()\n",
    "#     if \"+\" == oper:\n",
    "#         x = getUserInputYu() \n",
    "#         y = getUserInputYu()\n",
    "#         print(plusYu(x, y))\n",
    "#     elif \"-\" == oper:\n",
    "#         x = getUserInputYu()\n",
    "#         y = getUserInputYu()\n",
    "#         print(minusYu(x, y))\n",
    "#     elif \"/\" == oper:\n",
    "#         x = getUserInputYu()\n",
    "#         y = getUserInputYu()\n",
    "#         print(dividYu(x, y))\n",
    "#     elif \"*\" == oper: \n",
    "#         x = getUserInputYu()\n",
    "#         y = getUserInputYu()\n",
    "#         print(multiplyYu(x, y))\n",
    "#     else:\n",
    "#         print(\"Do your operator right!!\")\n",
    "\n"
   ]
  },
  {
   "cell_type": "code",
   "execution_count": 2,
   "metadata": {},
   "outputs": [],
   "source": [
    "# import operator\n",
    "\n",
    "# OPERATIONS = {\n",
    "#     '+': operator.add,\n",
    "#     '-': operator.sub,\n",
    "#     '/': operator.truediv,\n",
    "#     '*': operator.mul\n",
    "# }\n",
    "\n",
    "# # def operation(operator, x, y):\n",
    "# #     return operation[operator](x, y)"
   ]
  },
  {
   "cell_type": "code",
   "execution_count": 3,
   "metadata": {},
   "outputs": [],
   "source": [
    "# def getNumYu():\n",
    "#     userInput = getUserInputYu()\n",
    "# #     count = 0\n",
    "#     for c in userInput:\n",
    "#         if userInput[c] is not int:\n",
    "#             oper = userInput[c]\n",
    "#             else:\n",
    "#                 digits = userInput[c]\n",
    "# #     count+=1\n",
    "# return digits, oper "
   ]
  },
  {
   "cell_type": "code",
   "execution_count": null,
   "metadata": {},
   "outputs": [],
   "source": [
    "# def getOper(inputStr, c):\n",
    "#     oper = inputStr[c]"
   ]
  },
  {
   "cell_type": "code",
   "execution_count": 4,
   "metadata": {},
   "outputs": [],
   "source": [
    "# def calYu():\n",
    "#     getNumYu()\n",
    "    "
   ]
  },
  {
   "cell_type": "markdown",
   "metadata": {},
   "source": [
    "def getUsderInput():\n",
    "    \n",
    "    user_input = input(\"> \")\n",
    "    \n",
    "    return user_input"
   ]
  },
  {
   "cell_type": "code",
   "execution_count": null,
   "metadata": {},
   "outputs": [],
   "source": [
    "# def getNum(inputStr):\n",
    "#     for c in inputStr:\n",
    "#         if inputStr[c] is in int:\n",
    "#             numStr =+ inputStr[c]\n",
    "#             else:\n",
    "#                 getOper(inputStr, inputStr[c])"
   ]
  },
  {
   "cell_type": "markdown",
   "metadata": {},
   "source": [
    "##### Notes:\n",
    "\n",
    "~~1.) Get User Input~~\n",
    "\n",
    "~~2.) Add~~\n",
    "\n",
    "~~3.) Minus~~\n",
    "\n",
    "~~4.) Multiply~~\n",
    "\n",
    "~~5.) Divide~~\n",
    "\n",
    "~~6.) Check user input for operation~~\n",
    "\n",
    "7. Display result to user\n"
   ]
  },
  {
   "cell_type": "markdown",
   "metadata": {},
   "source": [
    "def plusYu(x, y):\n",
    "    x = int(x)\n",
    "    y = int(y)\n",
    "    return x + y\n",
    "\n",
    "def minusYu(x, y):\n",
    "    x = int(x)\n",
    "    y = int(y)\n",
    "    return x - y\n",
    "\n",
    "def dividYu(x, y):\n",
    "    x = int(x)\n",
    "    y = int(y)\n",
    "    return x / y\n",
    "\n",
    "def multiplyYu(x, y):\n",
    "    x = int(x)\n",
    "    y = int(y)\n",
    "    return x * y"
   ]
  }
 ],
 "metadata": {
  "kernelspec": {
   "display_name": "Python 3",
   "language": "python",
   "name": "python3"
  },
  "language_info": {
   "codemirror_mode": {
    "name": "ipython",
    "version": 3
   },
   "file_extension": ".py",
   "mimetype": "text/x-python",
   "name": "python",
   "nbconvert_exporter": "python",
   "pygments_lexer": "ipython3",
   "version": "3.7.3"
  }
 },
 "nbformat": 4,
 "nbformat_minor": 2
}
