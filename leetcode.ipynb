{
 "cells": [
  {
   "cell_type": "code",
   "execution_count": 134,
   "metadata": {},
   "outputs": [
    {
     "name": "stdout",
     "output_type": "stream",
     "text": [
      "0\n",
      "0 -6\n"
     ]
    }
   ],
   "source": [
    "nums = [2, 7 , 11, 15]\n",
    "target = 9\n",
    "\n",
    "for i in nums:\n",
    "    if target - i in nums:\n",
    "        x = target - i\n",
    "#         print(x)\n",
    "if x in nums:\n",
    "    print(nums.index(x))\n",
    "    x = nums.index(x)\n",
    "#     print(\"index: \", x)\n",
    "    \n",
    "for j in nums:\n",
    "    if target - x in nums:\n",
    "        y = target - x\n",
    "if y in nums:\n",
    "#     print(nums.index(y))\n",
    "    y = nums.index(y)\n",
    "#     print(\"index: \", y)\n",
    "\n",
    "print(x, y)"
   ]
  },
  {
   "cell_type": "code",
   "execution_count": 131,
   "metadata": {
    "scrolled": true
   },
   "outputs": [
    {
     "name": "stdout",
     "output_type": "stream",
     "text": [
      "xindex:  0\n",
      "x:  2\n",
      "y:  7\n",
      "xindex:  1\n",
      "x:  7\n",
      "y:  2\n",
      "1 0\n",
      "xindex:  2\n",
      "x:  11\n",
      "y:  -2\n",
      "xindex:  3\n",
      "x:  15\n",
      "y:  -6\n"
     ]
    }
   ],
   "source": [
    "nums = [2, 7 , 11, 15]\n",
    "target = 9\n",
    "\n",
    "numsIndex = {}\n",
    "for x_index, x in enumerate(nums):\n",
    "    print(\"xindex: \",x_index)\n",
    "    print(\"x: \",x)\n",
    "    y = target - x\n",
    "    print(\"y: \",y)\n",
    "    try:\n",
    "        y_index = numsIndex[y]\n",
    "    except KeyError:\n",
    "            numsIndex[x] = x_index\n",
    "    else:\n",
    "        print(x_index, y_index)"
   ]
  },
  {
   "cell_type": "code",
   "execution_count": 143,
   "metadata": {},
   "outputs": [
    {
     "name": "stdout",
     "output_type": "stream",
     "text": [
      "item:  7\n",
      "ans:  [0]\n",
      "nums.index(item):  1\n",
      "item:  2\n",
      "item:  -2\n",
      "item:  -6\n",
      "[0, 1]\n"
     ]
    }
   ],
   "source": [
    "nums = [2, 7 , 11, 15]\n",
    "target = 9\n",
    "\n",
    "ans = []\n",
    "for i in range(0, len(nums)):\n",
    "    item = target - nums[i]\n",
    "    print(\"item: \",item)\n",
    "    nums[i] = \"Replace\"\n",
    "    if item in nums:\n",
    "        ans.append(i)\n",
    "        print(\"ans: \",ans)\n",
    "        print(\"nums.index(item): \",nums.index(item))\n",
    "        ans.append(nums.index(item))\n",
    "print(ans)"
   ]
  },
  {
   "cell_type": "code",
   "execution_count": null,
   "metadata": {},
   "outputs": [],
   "source": []
  }
 ],
 "metadata": {
  "kernelspec": {
   "display_name": "Python 3",
   "language": "python",
   "name": "python3"
  },
  "language_info": {
   "codemirror_mode": {
    "name": "ipython",
    "version": 3
   },
   "file_extension": ".py",
   "mimetype": "text/x-python",
   "name": "python",
   "nbconvert_exporter": "python",
   "pygments_lexer": "ipython3",
   "version": "3.7.3"
  }
 },
 "nbformat": 4,
 "nbformat_minor": 2
}
